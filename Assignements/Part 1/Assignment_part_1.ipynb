{
  "cells": [
    {
      "cell_type": "markdown",
      "metadata": {
        "id": "view-in-github",
        "colab_type": "text"
      },
      "source": [
        "<a href=\"https://colab.research.google.com/github/clap-b/thedarezone-landing-69064/blob/main/Assignements/Part%201/Assignment_part_1.ipynb\" target=\"_parent\"><img src=\"https://colab.research.google.com/assets/colab-badge.svg\" alt=\"Open In Colab\"/></a>"
      ]
    },
    {
      "cell_type": "markdown",
      "metadata": {
        "id": "yrXLb3bx4cfD"
      },
      "source": [
        "# DSML investigation:\n",
        "### You are part of the Suisse Impossible Mission Force, or SIMF for short. You need to uncover a rogue agent that is trying to steal sensitive information.\n",
        "\n",
        "### Your mission, should you choose to accept it, is to find that agent before any classified information gets stolen. Good luck!\n"
      ]
    },
    {
      "cell_type": "markdown",
      "metadata": {
        "id": "4bVDcyJHHFjh"
      },
      "source": [
        "## Assignment part one\n",
        "\n",
        "Airport security confiscated a laptop of a spy, which was later given to you. The laptop contains some documents that might be useful in the investigation process. You retrieve those documents and want to analyse them. Our intelligence shows that the person that we are looking for has visited the USA between Sept 2019 to Oct 2020. He is currently working undercover.\n",
        "\n",
        "\n",
        "### Getting to know our data\n",
        "\n",
        "We have retrieved from the laptop the following file:\n",
        "- A list of suspects\n",
        "- The flight records of these potential suspects\n",
        "\n"
      ]
    },
    {
      "cell_type": "code",
      "source": [],
      "metadata": {
        "id": "zv-riRytio1d"
      },
      "execution_count": null,
      "outputs": []
    },
    {
      "cell_type": "code",
      "execution_count": 6,
      "metadata": {
        "id": "abwjDTZRHvzn"
      },
      "outputs": [],
      "source": [
        "import pandas as pd\n",
        "import numpy as np\n",
        "import matplotlib.pyplot as plt\n",
        "userRecords = pd.read_csv(\"https://raw.githubusercontent.com/michalis0/DataScience_and_MachineLearning/refs/heads/master/Assignements/Part%201/data/userRecords.csv\")\n",
        "travelRecords = pd.read_csv(\"https://raw.githubusercontent.com/michalis0/DataScience_and_MachineLearning/refs/heads/master/Assignements/Part%201/data/flightRecords.csv\")"
      ]
    },
    {
      "cell_type": "markdown",
      "metadata": {
        "id": "Fl_HmWwtIBDJ"
      },
      "source": [
        "#### Shape of the data\n",
        "\n",
        "Let's first check how many rows and columns (features) are in the user records"
      ]
    },
    {
      "cell_type": "code",
      "execution_count": 7,
      "metadata": {
        "id": "uICj1b0GIEKG",
        "outputId": "73c2fbf3-e572-4449-f0e0-54acd2f4f579",
        "colab": {
          "base_uri": "https://localhost:8080/"
        }
      },
      "outputs": [
        {
          "output_type": "stream",
          "name": "stdout",
          "text": [
            "(957, 8)\n"
          ]
        }
      ],
      "source": [
        "#Your code here\n",
        "print(userRecords.shape)"
      ]
    },
    {
      "cell_type": "markdown",
      "metadata": {
        "id": "2XIhLUBJDmfq"
      },
      "source": [
        "**Q1. How many rows are there in the user records dataset?**"
      ]
    },
    {
      "cell_type": "markdown",
      "metadata": {
        "id": "JT6l8O-2ISqh"
      },
      "source": [
        "\n",
        "#### Check out the first few rows\n",
        "Print the first few rows of the user records dataset and check them. Note that to protect innocent people, the name of the suspects have been censored, those will be revealed once number of potential suspects decreases.\n"
      ]
    },
    {
      "cell_type": "code",
      "execution_count": 8,
      "metadata": {
        "id": "xce5aB8SIOeu",
        "outputId": "83caa673-99de-48a6-8d20-6f6036ead2c9",
        "colab": {
          "base_uri": "https://localhost:8080/"
        }
      },
      "outputs": [
        {
          "output_type": "stream",
          "name": "stdout",
          "text": [
            "   UserID first_name  last_name  birthday country marital_status  \\\n",
            "0  317991      Lu***    Al*****  29.07.03      AR              1   \n",
            "1  241892     Ma****  Ro*******  10.11.99      AR              1   \n",
            "2  303376     Fr****     Ac****  25.07.84      AR              1   \n",
            "3  761992     Fr****      Go***  20.03.70      AR              1   \n",
            "4  373318      Jo***      Ro***  05.10.71      AR              1   \n",
            "5  938770    Ri*****      Ro***  16.12.59      AR              1   \n",
            "6  676003   Cr******  Ro*******  24.07.67      AR              0   \n",
            "7  169743    Li*****  Fe*******  19.09.68      AR              0   \n",
            "8  255073     Al****     Ga****  06.09.98      AR              0   \n",
            "9  468560   Ga******  Fe*******  18.04.60      AR              1   \n",
            "\n",
            "   number_of_kids               employment  \n",
            "0             2.0             Web Designer  \n",
            "1             0.0                   Banker  \n",
            "2             0.0            Kitchen staff  \n",
            "3             0.0       Teaching Assistant  \n",
            "4             0.0  Administrative employee  \n",
            "5             1.0                Professor  \n",
            "6             0.0                   Lawyer  \n",
            "7             NaN                   Doctor  \n",
            "8             2.0                  Manager  \n",
            "9             2.0                   Lawyer  \n"
          ]
        }
      ],
      "source": [
        "#Your code here\n",
        "print(userRecords.head(10))"
      ]
    },
    {
      "cell_type": "markdown",
      "metadata": {
        "id": "3TgOsG-pI8Yo"
      },
      "source": [
        "#### Column/feature names\n",
        "print the list of columns in the user records dataset."
      ]
    },
    {
      "cell_type": "code",
      "execution_count": 9,
      "metadata": {
        "id": "KPRr2ogtI-3B",
        "outputId": "9095126e-756d-40de-fd9c-10f1b2fb728c",
        "colab": {
          "base_uri": "https://localhost:8080/"
        }
      },
      "outputs": [
        {
          "output_type": "stream",
          "name": "stdout",
          "text": [
            "Index(['UserID', 'first_name', 'last_name', 'birthday', 'country',\n",
            "       'marital_status', 'number_of_kids', 'employment'],\n",
            "      dtype='object')\n"
          ]
        }
      ],
      "source": [
        "#Your code here\n",
        "print(userRecords.columns)"
      ]
    },
    {
      "cell_type": "markdown",
      "metadata": {
        "id": "e1XYn9tvJHbL"
      },
      "source": [
        "#### Duplicates\n",
        "Check if there are any duplicate entries in the user records dataset.\n",
        "\n",
        "__Remark__: If there are two rows in the dataset that have the same value for __all of the columns__, we consider this as a duplicate."
      ]
    },
    {
      "cell_type": "code",
      "execution_count": 10,
      "metadata": {
        "id": "Ve6cJ5hbJIrQ",
        "outputId": "8c7346bd-ee24-4408-db59-6f5c722af5dd",
        "colab": {
          "base_uri": "https://localhost:8080/"
        }
      },
      "outputs": [
        {
          "output_type": "stream",
          "name": "stdout",
          "text": [
            "True\n"
          ]
        }
      ],
      "source": [
        "#Your code here\n",
        "print(userRecords.duplicated().any())"
      ]
    },
    {
      "cell_type": "markdown",
      "metadata": {
        "id": "tebuO3lxJP-_"
      },
      "source": [
        "Show all the duplicated rows in the user records dataset.\n",
        "\n",
        "__Hint:__ use the method `duplicated(keep=False)` to get all occurrences of the duplicated rows."
      ]
    },
    {
      "cell_type": "code",
      "execution_count": 11,
      "metadata": {
        "id": "5UPbuQn5JQnQ",
        "outputId": "53de4929-3eee-45f1-cb67-750116bfa2b0",
        "colab": {
          "base_uri": "https://localhost:8080/"
        }
      },
      "outputs": [
        {
          "output_type": "stream",
          "name": "stdout",
          "text": [
            "     UserID first_name last_name  birthday country marital_status  \\\n",
            "18   100684    Ma*****    Me****  17.06.76      AR            NaN   \n",
            "19   100684    Ma*****    Me****  17.06.76      AR            NaN   \n",
            "47   910382      Ni***    El****  21.03.75      AZ            NaN   \n",
            "165  910382      Ni***    El****  21.03.75      AZ            NaN   \n",
            "276  610518    An*****  An******  15.02.53      DK              1   \n",
            "290  610518    An*****  An******  15.02.53      DK              1   \n",
            "\n",
            "     number_of_kids               employment  \n",
            "18              0.0  Administrative employee  \n",
            "19              0.0  Administrative employee  \n",
            "47              0.0  Administrative employee  \n",
            "165             0.0  Administrative employee  \n",
            "276             NaN                  Manager  \n",
            "290             NaN                  Manager  \n"
          ]
        }
      ],
      "source": [
        "#Your code here\n",
        "duplicates = userRecords[userRecords.duplicated(keep=False)]\n",
        "print(duplicates)"
      ]
    },
    {
      "cell_type": "markdown",
      "metadata": {
        "id": "qj3ec2_dD7OZ"
      },
      "source": [
        "**Q2. Are there any duplicate entries in the user records dataset?**\n",
        "\n",
        "*Note: Duplicate entries refer to two or more rows where all the values across every column are identical.*"
      ]
    },
    {
      "cell_type": "markdown",
      "metadata": {
        "id": "LvIVdCfzEE64"
      },
      "source": [
        "**Q3. How many duplicate entries are in the user records dataset?**\n",
        "\n",
        "(Remark: for instance: there are 2 duplicate \"entries\" in the following list: '1 ,2, 1, 3, 3, 4, 5'. It's 1 and 3)."
      ]
    },
    {
      "cell_type": "markdown",
      "metadata": {
        "id": "AdTka1hDgpUB"
      },
      "source": [
        "Drop the duplicate entries in the user records dataset."
      ]
    },
    {
      "cell_type": "code",
      "execution_count": 12,
      "metadata": {
        "id": "Jp9ndUSZgtSj",
        "outputId": "8ac38c70-0fd8-4840-e38b-f455a00a0593",
        "colab": {
          "base_uri": "https://localhost:8080/"
        }
      },
      "outputs": [
        {
          "output_type": "stream",
          "name": "stdout",
          "text": [
            "3\n"
          ]
        }
      ],
      "source": [
        "#Your code here\n",
        "print(userRecords.duplicated().sum())"
      ]
    },
    {
      "cell_type": "markdown",
      "metadata": {
        "id": "pLJGJqwPT8B9"
      },
      "source": [
        "### Spies often use false identities with fabricated data.\n",
        "\n",
        "#### This suggests that if certain data points occur with statistically improbable frequency, they might be fabricated.\n",
        "\n",
        "In this part we are going to verify if there are birthdates that have been reused an unusual amount of times."
      ]
    },
    {
      "cell_type": "markdown",
      "metadata": {
        "id": "Qm2RR5j8Ky-t"
      },
      "source": [
        "Let's first ensure that the birthday column in the user records dataset has the correct format (datetime):\n"
      ]
    },
    {
      "cell_type": "code",
      "execution_count": 13,
      "metadata": {
        "id": "KJ1-Bk2XULlt",
        "outputId": "f7ceb6b0-3ce1-47bb-b989-2440eb80f2e2",
        "colab": {
          "base_uri": "https://localhost:8080/"
        }
      },
      "outputs": [
        {
          "output_type": "stream",
          "name": "stdout",
          "text": [
            "UserID              int64\n",
            "first_name         object\n",
            "last_name          object\n",
            "birthday           object\n",
            "country            object\n",
            "marital_status     object\n",
            "number_of_kids    float64\n",
            "employment         object\n",
            "dtype: object\n"
          ]
        }
      ],
      "source": [
        "#Check the data type of each feature\n",
        "#Your code here\n",
        "print(userRecords.dtypes)"
      ]
    },
    {
      "cell_type": "markdown",
      "metadata": {
        "id": "m1Bf_f-9qYTa"
      },
      "source": [
        "Convert the column `birthday` to datetime if necessary"
      ]
    },
    {
      "cell_type": "code",
      "execution_count": 14,
      "metadata": {
        "id": "3hmp9zVZK8fY",
        "outputId": "d602f1d5-37f6-4261-fc58-d35d98e9804d",
        "colab": {
          "base_uri": "https://localhost:8080/"
        }
      },
      "outputs": [
        {
          "output_type": "stream",
          "name": "stdout",
          "text": [
            "UserID                     int64\n",
            "first_name                object\n",
            "last_name                 object\n",
            "birthday          datetime64[ns]\n",
            "country                   object\n",
            "marital_status            object\n",
            "number_of_kids           float64\n",
            "employment                object\n",
            "dtype: object\n"
          ]
        },
        {
          "output_type": "stream",
          "name": "stderr",
          "text": [
            "/tmp/ipython-input-353068658.py:2: UserWarning: Could not infer format, so each element will be parsed individually, falling back to `dateutil`. To ensure parsing is consistent and as-expected, please specify a format.\n",
            "  userRecords['birthday'] = pd.to_datetime(userRecords['birthday'], errors='coerce')\n"
          ]
        }
      ],
      "source": [
        "#Your code here\n",
        "userRecords['birthday'] = pd.to_datetime(userRecords['birthday'], errors='coerce')\n",
        "print(userRecords.dtypes)"
      ]
    },
    {
      "cell_type": "code",
      "source": [],
      "metadata": {
        "id": "KkcuMH_JrEkO"
      },
      "execution_count": null,
      "outputs": []
    },
    {
      "cell_type": "markdown",
      "metadata": {
        "id": "ZtNDR-qOzFfQ"
      },
      "source": [
        "Find the list of birthdays that are duplicated/reused in the dataset"
      ]
    },
    {
      "cell_type": "code",
      "execution_count": 15,
      "metadata": {
        "id": "R7xDb_JPyD0x",
        "outputId": "22145336-5b85-4f3e-bc20-bca7a472df96",
        "colab": {
          "base_uri": "https://localhost:8080/"
        }
      },
      "outputs": [
        {
          "output_type": "stream",
          "name": "stdout",
          "text": [
            "6     2067-07-24\n",
            "13    2004-11-30\n",
            "18    1976-06-17\n",
            "19    1976-06-17\n",
            "34    2057-06-25\n",
            "46    1991-02-12\n",
            "47    1975-03-21\n",
            "74    2067-07-24\n",
            "112   2057-12-24\n",
            "150   1983-03-15\n",
            "153   2068-09-22\n",
            "160   1975-01-28\n",
            "165   1975-03-21\n",
            "183   2068-09-22\n",
            "186   2055-08-01\n",
            "191   2062-07-07\n",
            "209   2055-08-01\n",
            "241   2057-12-18\n",
            "276   2053-02-15\n",
            "288   2057-12-24\n",
            "290   2053-02-15\n",
            "305   2070-03-18\n",
            "312   2068-09-10\n",
            "329   2004-11-30\n",
            "355   2057-06-25\n",
            "370   1978-11-21\n",
            "393   1983-03-15\n",
            "396   1991-02-12\n",
            "399   2060-03-26\n",
            "481   1983-08-26\n",
            "501   2070-06-04\n",
            "511   2060-06-23\n",
            "516   1978-11-21\n",
            "538   1999-09-08\n",
            "557   1999-12-09\n",
            "570   2060-03-26\n",
            "592   1999-09-08\n",
            "623   2054-03-26\n",
            "627   1992-01-06\n",
            "630   1992-01-06\n",
            "647   1992-01-06\n",
            "666   2070-03-18\n",
            "668   1992-01-06\n",
            "715   2060-06-23\n",
            "722   2062-07-07\n",
            "723   1983-08-26\n",
            "772   2070-06-04\n",
            "790   2057-12-18\n",
            "807   1975-01-28\n",
            "810   2068-09-10\n",
            "838   1999-12-09\n",
            "950   2054-03-26\n",
            "Name: birthday, dtype: datetime64[ns]\n"
          ]
        }
      ],
      "source": [
        "#Your code here\n",
        "duplicates = userRecords[userRecords['birthday'].duplicated(keep=False)]\n",
        "print(duplicates['birthday'])"
      ]
    },
    {
      "cell_type": "markdown",
      "metadata": {
        "id": "FdIP5xyv2Qfs"
      },
      "source": [
        "Let's count how many people have their birthday on the same day among the duplicated birthdays."
      ]
    },
    {
      "cell_type": "code",
      "execution_count": 16,
      "metadata": {
        "id": "JDXzbAGPzVXy",
        "outputId": "c0e0200b-0fda-404a-e93f-deb67e9f92dd",
        "colab": {
          "base_uri": "https://localhost:8080/"
        }
      },
      "outputs": [
        {
          "output_type": "stream",
          "name": "stdout",
          "text": [
            "birthday\n",
            "1992-01-06    4\n",
            "2070-06-04    2\n",
            "2057-12-24    2\n",
            "2054-03-26    2\n",
            "1983-03-15    2\n",
            "2060-06-23    2\n",
            "2068-09-22    2\n",
            "2057-06-25    2\n",
            "1976-06-17    2\n",
            "1991-02-12    2\n",
            "1975-03-21    2\n",
            "2060-03-26    2\n",
            "1999-09-08    2\n",
            "1999-12-09    2\n",
            "2062-07-07    2\n",
            "2068-09-10    2\n",
            "2070-03-18    2\n",
            "2055-08-01    2\n",
            "1975-01-28    2\n",
            "2053-02-15    2\n",
            "2067-07-24    2\n",
            "1983-08-26    2\n",
            "2004-11-30    2\n",
            "1978-11-21    2\n",
            "2057-12-18    2\n",
            "Name: count, dtype: int64\n"
          ]
        }
      ],
      "source": [
        "#Your code here\n",
        "birthday_counts = userRecords['birthday'].value_counts()\n",
        "reused_birthdays = birthday_counts[birthday_counts>1]\n",
        "print(reused_birthdays)"
      ]
    },
    {
      "cell_type": "markdown",
      "metadata": {
        "id": "RVtdeKq7E4Bl"
      },
      "source": [
        "**Q4. What is the most common birthday in the dataset?**"
      ]
    },
    {
      "cell_type": "code",
      "source": [
        "most_common_birthday = userRecords['birthday'].value_counts().idxmax()\n",
        "count = userRecords['birthday'].value_counts().max()\n",
        "print(most_common_birthday)"
      ],
      "metadata": {
        "id": "mSvisX44t4lc",
        "outputId": "1a0714c1-9c96-4a96-cedf-029ff4db9e70",
        "colab": {
          "base_uri": "https://localhost:8080/"
        }
      },
      "execution_count": 17,
      "outputs": [
        {
          "output_type": "stream",
          "name": "stdout",
          "text": [
            "1992-01-06 00:00:00\n"
          ]
        }
      ]
    },
    {
      "cell_type": "markdown",
      "metadata": {
        "id": "PrP661RxFBt2"
      },
      "source": [
        "**Q5. How many users have their birthdays on that day (the most common birthday)?**"
      ]
    },
    {
      "cell_type": "markdown",
      "metadata": {
        "id": "8hVJ7zM4RZk4"
      },
      "source": [
        "We can consider that there is no suspicious discrepancy through birthdays.\n"
      ]
    },
    {
      "cell_type": "markdown",
      "metadata": {
        "id": "-Akjuv9hBsPg"
      },
      "source": [
        "#### We have reasons to believe that the suspect works very thoroughly, so he would make sure that the fabricated data about his identity is complete in order for his operation to run smoothly.\n",
        "#### Therefore, we can exclude the people with incomplete information from the list of potential suspects."
      ]
    },
    {
      "cell_type": "markdown",
      "metadata": {
        "id": "OH0Rp5xb3OH9"
      },
      "source": [
        "Count how many null values are there in each column of the user records dataset. You can call `isnull()` and `sum()` to get a count of how many null values are there in each column."
      ]
    },
    {
      "cell_type": "code",
      "execution_count": 18,
      "metadata": {
        "id": "27y9FBJG3MuR",
        "outputId": "51bf8493-375c-4626-e80f-dca6dc96dc87",
        "colab": {
          "base_uri": "https://localhost:8080/"
        }
      },
      "outputs": [
        {
          "output_type": "stream",
          "name": "stdout",
          "text": [
            "UserID              0\n",
            "first_name          1\n",
            "last_name           1\n",
            "birthday            1\n",
            "country             0\n",
            "marital_status    104\n",
            "number_of_kids    153\n",
            "employment          1\n",
            "dtype: int64\n"
          ]
        }
      ],
      "source": [
        "#Your code here\n",
        "null_counts = userRecords.isnull().sum()\n",
        "print(null_counts)"
      ]
    },
    {
      "cell_type": "markdown",
      "metadata": {
        "id": "b383FA5V0PfJ"
      },
      "source": [
        "If you encounter any null values in the dataset, be sure to exclude those entries from the suspect list."
      ]
    },
    {
      "cell_type": "code",
      "execution_count": 19,
      "metadata": {
        "id": "OxZ-tXn10mAg",
        "outputId": "241e9878-d0da-4aba-a65f-b5ea20254f0a",
        "colab": {
          "base_uri": "https://localhost:8080/"
        }
      },
      "outputs": [
        {
          "output_type": "stream",
          "name": "stdout",
          "text": [
            "     UserID  first_name  last_name   birthday country marital_status  \\\n",
            "0    317991       Lu***    Al***** 2003-07-29      AR              1   \n",
            "1    241892      Ma****  Ro******* 1999-10-11      AR              1   \n",
            "2    303376      Fr****     Ac**** 1984-07-25      AR              1   \n",
            "3    761992      Fr****      Go*** 2070-03-20      AR              1   \n",
            "4    373318       Jo***      Ro*** 2071-05-10      AR              1   \n",
            "..      ...         ...        ...        ...     ...            ...   \n",
            "950  458293  No********   Wi****** 2054-03-26      ZA              1   \n",
            "952  218415    Bu******   Mo****** 2001-01-22      ZA              0   \n",
            "953  173906     Th*****   Mo****** 2061-06-11      ZA              0   \n",
            "954  178685     Mi*****  Bu******* 2053-05-29      ZA              0   \n",
            "955  200865   Si*******     Na**** 2062-12-16      ZA              0   \n",
            "\n",
            "     number_of_kids               employment  \n",
            "0               2.0             Web Designer  \n",
            "1               0.0                   Banker  \n",
            "2               0.0            Kitchen staff  \n",
            "3               0.0       Teaching Assistant  \n",
            "4               0.0  Administrative employee  \n",
            "..              ...                      ...  \n",
            "950             2.0                Professor  \n",
            "952             1.0             Web Designer  \n",
            "953             2.0             Web Designer  \n",
            "954             1.0                Professor  \n",
            "955             0.0             Web Designer  \n",
            "\n",
            "[714 rows x 8 columns]\n"
          ]
        }
      ],
      "source": [
        "#Your code here\n",
        "cleaned_userRecords = userRecords.dropna()\n",
        "print(cleaned_userRecords)"
      ]
    },
    {
      "cell_type": "markdown",
      "metadata": {
        "id": "KkWJBx21Cq41"
      },
      "source": [
        "### Linking the user records to the flight records\n",
        "\n",
        "We will now proceed to identify the users who were in the USA from Sept 1st, 2019 to Oct 31st, 2020.\n",
        "\n",
        "We will merge the flight records with the user records in order to ensure that users who have been unsuspected in the previous step are not considered."
      ]
    },
    {
      "cell_type": "code",
      "execution_count": null,
      "metadata": {
        "id": "EL7JbTKQCqUR"
      },
      "outputs": [],
      "source": [
        "#check the user records dataset"
      ]
    },
    {
      "cell_type": "code",
      "execution_count": null,
      "metadata": {
        "id": "C8XXKKWVGa5_"
      },
      "outputs": [],
      "source": [
        "#check the flight records dataset\n"
      ]
    },
    {
      "cell_type": "markdown",
      "metadata": {
        "id": "Mp1SB0TPKoKM"
      },
      "source": [
        "[Merging](https://pandas.pydata.org/docs/user_guide/merging.html) the two datasets:\n",
        "\n",
        "*Hint: Use the above questions to identify on what feature to merge the datasets*\n",
        "\n",
        "The result should contain the features flightName, Departure, Arrival,  Date, UserID, first_name, last_name, etc."
      ]
    },
    {
      "cell_type": "code",
      "execution_count": 20,
      "metadata": {
        "id": "SJbpo03uHBcW",
        "outputId": "9f5a8b9d-9059-4ff2-98cb-a372fd87d1d6",
        "colab": {
          "base_uri": "https://localhost:8080/"
        }
      },
      "outputs": [
        {
          "output_type": "stream",
          "name": "stdout",
          "text": [
            "      flightName departure destination      date  userID  UserID first_name  \\\n",
            "0        KX65826        AR          IT  20.01.10  317991  317991      Lu***   \n",
            "1        CL12336        IT          MT  16.06.10  317991  317991      Lu***   \n",
            "2       YN106988        MT          SE  08.05.11  317991  317991      Lu***   \n",
            "3        CB58289        SE          EE  08.11.11  317991  317991      Lu***   \n",
            "4       SX625101        EE          AZ  17.11.11  317991  317991      Lu***   \n",
            "...          ...       ...         ...       ...     ...     ...        ...   \n",
            "19032    IY61324        PL          ZA  01.09.20  200865  200865  Si*******   \n",
            "19033    JO46672        ZA          DZ  20.07.21  200865  200865  Si*******   \n",
            "19034  HX1014810        DZ          CR  22.01.22  200865  200865  Si*******   \n",
            "19035   DL869109        CR          GT  28.04.22  200865  200865  Si*******   \n",
            "19036    XK61479        GT          KR  24.03.23  200865  200865  Si*******   \n",
            "\n",
            "      last_name   birthday country marital_status  number_of_kids  \\\n",
            "0       Al***** 2003-07-29      AR              1             2.0   \n",
            "1       Al***** 2003-07-29      AR              1             2.0   \n",
            "2       Al***** 2003-07-29      AR              1             2.0   \n",
            "3       Al***** 2003-07-29      AR              1             2.0   \n",
            "4       Al***** 2003-07-29      AR              1             2.0   \n",
            "...         ...        ...     ...            ...             ...   \n",
            "19032    Na**** 2062-12-16      ZA              0             0.0   \n",
            "19033    Na**** 2062-12-16      ZA              0             0.0   \n",
            "19034    Na**** 2062-12-16      ZA              0             0.0   \n",
            "19035    Na**** 2062-12-16      ZA              0             0.0   \n",
            "19036    Na**** 2062-12-16      ZA              0             0.0   \n",
            "\n",
            "         employment  \n",
            "0      Web Designer  \n",
            "1      Web Designer  \n",
            "2      Web Designer  \n",
            "3      Web Designer  \n",
            "4      Web Designer  \n",
            "...             ...  \n",
            "19032  Web Designer  \n",
            "19033  Web Designer  \n",
            "19034  Web Designer  \n",
            "19035  Web Designer  \n",
            "19036  Web Designer  \n",
            "\n",
            "[19037 rows x 13 columns]\n"
          ]
        }
      ],
      "source": [
        "#Your code here\n",
        "merged_data = pd.merge(travelRecords, cleaned_userRecords, left_on=\"userID\", right_on=\"UserID\", how=\"inner\")\n",
        "print(merged_data)\n"
      ]
    },
    {
      "cell_type": "markdown",
      "metadata": {
        "id": "qe8pzJ5A1TxQ"
      },
      "source": [
        "Remember, our suspect operates meticulously, ensuring that there are no null values in any entries."
      ]
    },
    {
      "cell_type": "code",
      "execution_count": 21,
      "metadata": {
        "id": "5HWgNzpC1pmL",
        "outputId": "cd554e01-1596-4bea-9cd8-a56450a4d155",
        "colab": {
          "base_uri": "https://localhost:8080/"
        }
      },
      "outputs": [
        {
          "output_type": "stream",
          "name": "stdout",
          "text": [
            "flightName        0\n",
            "departure         0\n",
            "destination       0\n",
            "date              0\n",
            "userID            0\n",
            "UserID            0\n",
            "first_name        0\n",
            "last_name         0\n",
            "birthday          0\n",
            "country           0\n",
            "marital_status    0\n",
            "number_of_kids    0\n",
            "employment        0\n",
            "dtype: int64\n"
          ]
        }
      ],
      "source": [
        "#Your code here\n",
        "null_counts = merged_data.isnull().sum()\n",
        "print(null_counts)"
      ]
    },
    {
      "cell_type": "markdown",
      "metadata": {
        "id": "wmVg_OcqCzPe"
      },
      "source": [
        "Let's now identify the users who has **travelled to** the United States (US) between the 1st of september 2019 and the 31st of october 2020.\n",
        "\n",
        "*Note that the travel date is not in datetime format.*"
      ]
    },
    {
      "cell_type": "code",
      "execution_count": 22,
      "metadata": {
        "id": "1qFGYqCsCynF",
        "colab": {
          "base_uri": "https://localhost:8080/"
        },
        "outputId": "22308fc2-aab8-45f5-9137-fad48e740aed"
      },
      "outputs": [
        {
          "output_type": "stream",
          "name": "stderr",
          "text": [
            "/tmp/ipython-input-2902423039.py:1: UserWarning: Could not infer format, so each element will be parsed individually, falling back to `dateutil`. To ensure parsing is consistent and as-expected, please specify a format.\n",
            "  travelRecords[\"date\"] = pd.to_datetime(travelRecords[\"date\"], errors=\"coerce\")\n"
          ]
        },
        {
          "output_type": "stream",
          "name": "stdout",
          "text": [
            "      flightName departure destination       date  userID\n",
            "268     MG891910        AR          US 2020-07-16  468560\n",
            "638    OO3731010        CA          US 2020-10-04  255830\n",
            "947     OV733110        BE          US 2020-04-06  291994\n",
            "1003     MY56747        SG          US 2020-02-19  919502\n",
            "1525     GU84573        ES          US 2020-10-02  861915\n",
            "...          ...       ...         ...        ...     ...\n",
            "24743    TE38388        AR          US 2019-05-18  619738\n",
            "24798   QI107642        TR          US 2019-10-14  748564\n",
            "24849   DQ105473        AR          US 2019-05-18  868229\n",
            "24985   BT519103        NL          US 2020-09-05  866017\n",
            "25389  WV1010933        HU          US 2019-01-19  102637\n",
            "\n",
            "[78 rows x 5 columns]\n",
            "      flightName departure destination       date  userID\n",
            "268     MG891910        AR          US 2020-07-16  468560\n",
            "638    OO3731010        CA          US 2020-10-04  255830\n",
            "947     OV733110        BE          US 2020-04-06  291994\n",
            "1003     MY56747        SG          US 2020-02-19  919502\n",
            "1525     GU84573        ES          US 2020-10-02  861915\n",
            "1822     DG97595        BD          US 2020-09-05  561296\n",
            "2077     YM88531        BD          US 2020-03-09  226545\n",
            "2150     PE15954        BG          US 2019-03-18  265615\n",
            "2339    QG410277        PT          US 2020-10-10  627731\n",
            "3454    TF469810        IT          US 2020-03-17  220420\n",
            "4036     MX97137        FR          US 2020-07-23  297653\n",
            "4060     II54584        JP          US 2019-11-06  206269\n",
            "4361     KH64961        MT          US 2019-12-31  805237\n",
            "4582    JS882710        CL          US 2019-06-17  494514\n",
            "5031    QN107276        CO          US 2019-10-21  236456\n",
            "5033     KA65668        HU          US 2019-12-26  236456\n",
            "5569     YK79958        CR          US 2020-09-11  512432\n",
            "5790     RT23562        BE          US 2020-04-02  336775\n",
            "5866     MF23898        DK          US 2019-02-05  744124\n",
            "5998     NY87398        BE          US 2019-09-17  710764\n",
            "7063     RF98646        LU          US 2019-08-04  648234\n",
            "7177     HX23943        CO          US 2020-10-10  267733\n",
            "7343    QF173105        NL          US 2020-08-16  348465\n",
            "7823    JE532410        CH          US 2020-06-26  429697\n",
            "7939     PI36334        CH          US 2019-12-06  412064\n",
            "10267   LY781032        BR          US 2020-04-18  649131\n",
            "10609    PP35996        HU          US 2020-03-05  481578\n",
            "10825    SA39423        BE          US 2020-06-10  434361\n",
            "10926  XE1036910        JP          US 2020-01-14  804662\n",
            "11000  JE1091101        IT          US 2019-05-04  661944\n",
            "11309    BF79684        RU          US 2020-02-16  287607\n",
            "11634    MD77946        ES          US 2020-07-22  522432\n",
            "11956   YO910418        AR          US 2020-08-19  411537\n",
            "11976   IX941079        ZA          US 2019-06-07  795804\n",
            "12512    IU77244        CO          US 2020-09-20  424791\n",
            "13286    XQ62824        CA          US 2020-01-23  679196\n",
            "13845  XR2108105        IT          US 2019-07-01  131393\n",
            "13874   OS610439        JP          US 2020-04-23  410319\n",
            "14424   HN578510        KR          US 2019-04-02  232443\n",
            "15405   ZI110282        LT          US 2019-02-16  748037\n",
            "16499    XD18258        IT          US 2019-10-13  556033\n",
            "16530    MZ14348        NO          US 2019-04-19  931749\n",
            "18758  RR7101048        IN          US 2020-04-03  723305\n",
            "19023    ZI72816        NL          US 2019-10-06  825203\n",
            "19126    BU49552        GB          US 2020-07-16  856596\n",
            "19152    TW99114        ES          US 2019-05-22  722924\n",
            "19634    HA26526        HU          US 2019-10-11  139646\n",
            "19916    WQ77186        MX          US 2020-07-29  628854\n",
            "21286    SH63275        AR          US 2019-09-20  762279\n",
            "21727    DZ61923        MD          US 2020-09-01  638911\n",
            "22121    SR31584        BR          US 2020-09-06  785994\n",
            "22338    XB61871        SE          US 2020-04-08  642133\n",
            "22775   VO529104        PT          US 2019-07-25  708256\n",
            "22962    KM72712        IS          US 2020-05-28  428951\n",
            "23360    JK65717        BR          US 2020-03-05  457865\n",
            "23598  DK1015102        BG          US 2020-04-21  739104\n",
            "23643    WF23274        FR          US 2019-01-17  263704\n",
            "23719    OU89359        IT          US 2019-04-28  828218\n",
            "23974    GZ86777        HU          US 2020-04-01  852352\n",
            "24196    PK41837        PL          US 2020-07-19  123699\n",
            "24221    NR33231        CO          US 2019-08-16  282393\n",
            "24248    RZ41582        HR          US 2019-10-15  581969\n",
            "24277    OA15535        NO          US 2019-03-17  414259\n",
            "24330    QG33545        EE          US 2019-03-17  895839\n",
            "24390    IH35877        IT          US 2020-07-10  409055\n",
            "24419   FB732410        MT          US 2020-01-28  850103\n",
            "24469    AF35718        CR          US 2020-01-17  707686\n",
            "24491   QA221095        AT          US 2019-12-23  942571\n",
            "24520   MM110454        BR          US 2020-08-19  300377\n",
            "24568    DW55695        CH          US 2019-04-28  832011\n",
            "24631   EC106882        IS          US 2020-10-11  539529\n",
            "24663    WA28626        CH          US 2020-10-30  570351\n",
            "24721   HF651910        CR          US 2020-04-29  321117\n",
            "24743    TE38388        AR          US 2019-05-18  619738\n",
            "24798   QI107642        TR          US 2019-10-14  748564\n",
            "24849   DQ105473        AR          US 2019-05-18  868229\n",
            "24985   BT519103        NL          US 2020-09-05  866017\n",
            "25389  WV1010933        HU          US 2019-01-19  102637\n"
          ]
        }
      ],
      "source": [
        "\n",
        "\n",
        "travelRecords[\"date\"] = pd.to_datetime(travelRecords[\"date\"], errors=\"coerce\")\n",
        "\n",
        "start_date = \"01.09.19\"\n",
        "end_date   = \"31.10.20\"\n",
        "\n",
        "\n",
        "us_travellers = travelRecords[(travelRecords[\"destination\"] == \"US\") & (travelRecords[\"date\"] >= start_date) & (travelRecords[\"date\"] <= end_date)]\n",
        "\n",
        "print(us_travellers)\n",
        "print(us_travellers.to_string())\n"
      ]
    },
    {
      "cell_type": "markdown",
      "metadata": {
        "id": "MoLO1Mz5IIZT"
      },
      "source": [
        "**Q6. How many suspects travelled to the US between the 1st of September 2019 and the 31st of October 2020?**"
      ]
    },
    {
      "cell_type": "markdown",
      "source": [],
      "metadata": {
        "id": "JLHYT7fEtl8X"
      }
    },
    {
      "cell_type": "markdown",
      "metadata": {
        "id": "fK5n1GbtfZBG"
      },
      "source": [
        "**Q7. Which users are included in the remaining list of suspects who traveled to the US between the 1st of September 2019 and the 31st of October 2020?** Choose from the answers on Moodle."
      ]
    },
    {
      "cell_type": "markdown",
      "metadata": {
        "id": "6nh27RK8cMJZ"
      },
      "source": [
        "## [Data visualisation ](https://pandas.pydata.org/docs/user_guide/visualization.html)\n",
        "\n",
        " Suisse Impossible Mission Force is happy with the result and would like to have some visual aid to make a profile of the potential suspects."
      ]
    },
    {
      "cell_type": "markdown",
      "metadata": {
        "id": "5mX8w6H7c6ro"
      },
      "source": [
        "Let's create a pie chart to visualize the employment distribution among the suspects who traveled to US between September 1st, 2019, and October 31st, 2020."
      ]
    },
    {
      "cell_type": "code",
      "execution_count": 23,
      "metadata": {
        "id": "5Muyk-xMc7h6",
        "colab": {
          "base_uri": "https://localhost:8080/",
          "height": 428
        },
        "outputId": "309f812b-971c-4350-9441-1a7abf3e01cb"
      },
      "outputs": [
        {
          "output_type": "display_data",
          "data": {
            "text/plain": [
              "<Figure size 640x480 with 1 Axes>"
            ],
            "image/png": "[encoded data removed]"
          },
          "metadata": {}
        }
      ],
      "source": [
        "#Your code here\n",
        "suspects_info = pd.merge(\n",
        "    us_travellers,\n",
        "    cleaned_userRecords,\n",
        "    left_on=\"userID\",\n",
        "    right_on=\"UserID\",\n",
        "    how=\"inner\")\n",
        "\n",
        "\n",
        "employment_distribution = suspects_info['employment'].value_counts()\n",
        "plt.pie(employment_distribution, labels=employment_distribution.index, autopct='%1.1f%%')\n",
        "plt.title('Employment Distribution Among Suspects')\n",
        "plt.show()"
      ]
    },
    {
      "cell_type": "markdown",
      "metadata": {
        "id": "M9Neo8lE3wd9"
      },
      "source": [
        "**Q8. Which profession is the least represented among the suspects the suspects who traveled to US between September 1st, 2019, and October 31st, 2020?**\n",
        " Choose from the answers on Moodle.\n"
      ]
    },
    {
      "cell_type": "markdown",
      "metadata": {
        "id": "WBUy4QHHiWuO"
      },
      "source": [
        "## Journey length\n",
        "\n",
        "The Suisse Impossible Mission Force suspects that the rogue agent is an anomaly within his declared employment category, particularly in terms of the number of days he spent at destinations compared to his peers.\n",
        "\n",
        "To identify such deviations, we can employ boxplots for each employment category, allowing us to visually identify outliers in the data."
      ]
    },
    {
      "cell_type": "markdown",
      "metadata": {
        "id": "uiKyLYwHcCJ-"
      },
      "source": [
        "First, let's construct two tables: one for the dates of arrival and another for the dates of departure. Utilize the existing dataset to extract these dates based on the 'destination' and 'departure' columns. Ensure that both the arrival and departure dates are within the period the suspect is believed to have been in the US, which is from September 2019 to October 2020."
      ]
    },
    {
      "cell_type": "code",
      "execution_count": 77,
      "metadata": {
        "id": "pZvGcHwbv0e7",
        "colab": {
          "base_uri": "https://localhost:8080/"
        },
        "outputId": "392d618e-135a-4407-bcde-518eb392567a"
      },
      "outputs": [
        {
          "output_type": "stream",
          "name": "stdout",
          "text": [
            "Arrivals with employment (full info):\n",
            "    userID flightName departure destination arrival_date    employment\n",
            "0  123699    PK41837        PL          US   2020-07-19        Lawyer\n",
            "1  139646    HA26526        HU          US   2019-10-11        Doctor\n",
            "2  206269    II54584        JP          US   2019-11-06        Banker\n",
            "3  220420   TF469810        IT          US   2020-03-17  Web Designer\n",
            "4  226545    YM88531        BD          US   2020-03-09           NaN \n",
            "\n",
            "Departures with employment (full info):\n",
            "    userID flightName departure destination departure_date     employment\n",
            "0  102637   CS831031        US          DE     2019-09-04            NaN\n",
            "1  139646   ZV283105        US          JP     2020-07-29         Doctor\n",
            "2  158043   JP106659        US          MT     2020-09-21            NaN\n",
            "3  178685    MN23734        US          FR     2019-10-18      Professor\n",
            "4  205381    BT95799        US          SG     2019-11-07  Kitchen staff\n"
          ]
        }
      ],
      "source": [
        "# For this step we will need the information not only about the fights to the US,\n",
        "# but also about the flights taken from the US\n",
        "# Your code here\n",
        "\n",
        "def drop_employment_cols(df):\n",
        "    cols = [c for c in df.columns if c.startswith(\"employment\")]\n",
        "    return df.drop(columns=cols, errors=\"ignore\")\n",
        "\n",
        "arrivals_full  = drop_employment_cols(arrivals_full)\n",
        "departures_full = drop_employment_cols(departures_full)\n",
        "\n",
        "arrivals_full = (\n",
        "    arrivals_full\n",
        "      .merge(emp_df, left_on=\"userID\", right_on=\"userid\", how=\"left\")\n",
        "      .drop(columns=[\"userid\"])\n",
        "\n",
        "departures_full = (\n",
        "    departures_full\n",
        "      .merge(emp_df, left_on=\"userID\", right_on=\"userid\", how=\"left\")\n",
        "      .drop(columns=[\"userid\"]))\n",
        "\n",
        "\n",
        "\n",
        "print(\"Arrivals with employment (full info):\\n\", arrivals_full.head(), \"\\n\")\n",
        "print(\"Departures with employment (full info):\\n\", departures_full.head())"
      ]
    },
    {
      "cell_type": "markdown",
      "metadata": {
        "id": "_gXDZXu0LUa5"
      },
      "source": [
        "We can keep on both of these tables the user ID, employment, and departure date / arrival date."
      ]
    },
    {
      "cell_type": "code",
      "execution_count": 78,
      "metadata": {
        "id": "0m_fOp5LLjnq",
        "colab": {
          "base_uri": "https://localhost:8080/"
        },
        "outputId": "4457cf81-7712-4bd4-cc3d-f8e0dc9473f2"
      },
      "outputs": [
        {
          "output_type": "stream",
          "name": "stdout",
          "text": [
            "   userID    employment arrival_date\n",
            "0  123699        Lawyer   2020-07-19\n",
            "1  139646        Doctor   2019-10-11\n",
            "2  206269        Banker   2019-11-06\n",
            "3  220420  Web Designer   2020-03-17\n",
            "7  255830     Professor   2020-10-04 \n",
            "\n",
            "   userID     employment departure_date\n",
            "1  139646         Doctor     2020-07-29\n",
            "3  178685      Professor     2019-10-18\n",
            "4  205381  Kitchen staff     2019-11-07\n",
            "8  255830      Professor     2020-07-10\n",
            "9  265615   Web Designer     2019-11-17\n"
          ]
        }
      ],
      "source": [
        "#Your code here\n",
        "# Arrivals table\n",
        "# Arrivals table\n",
        "\n",
        "\n",
        "arrivals = arrivals_full[[\"userID\", \"employment\", \"arrival_date\"]].copy()\n",
        "departures = departures_full[[\"userID\", \"employment\", \"departure_date\"]].copy()\n",
        "\n",
        "arrivals_clean = arrivals.dropna(subset=[\"arrival_date\", \"employment\"])\n",
        "departures_clean = departures.dropna(subset=[\"departure_date\", \"employment\"])\n",
        "\n",
        "print(arrivals_clean.head(), \"\\n\")\n",
        "print(departures_clean.head())\n"
      ]
    },
    {
      "cell_type": "markdown",
      "metadata": {
        "id": "zJR7PDWZL3oO"
      },
      "source": [
        "We can now join the two tables on user ID"
      ]
    },
    {
      "cell_type": "code",
      "execution_count": 79,
      "metadata": {
        "id": "9INyxNK9L3aC",
        "colab": {
          "base_uri": "https://localhost:8080/"
        },
        "outputId": "454a6568-060e-4683-c0b2-ec2f86df6bd6"
      },
      "outputs": [
        {
          "output_type": "stream",
          "name": "stdout",
          "text": [
            "   userID     employment arrival_date departure_date\n",
            "0  139646         Doctor   2019-10-11     2020-07-29\n",
            "1  255830      Professor   2020-10-04     2020-07-10\n",
            "2  287607  Kitchen staff   2020-02-16     2020-06-30\n",
            "3  410319         Lawyer   2020-04-23     2020-10-12\n",
            "4  412064         Banker   2019-12-06     2019-10-21\n"
          ]
        }
      ],
      "source": [
        "#Your code here\n",
        "\n",
        "\n",
        "\n",
        "stays = pd.merge(\n",
        "    arrivals_clean,\n",
        "    departures_clean,\n",
        "    on=[\"userID\", \"employment\"],\n",
        "    how=\"inner\")\n",
        "\n",
        "print(stays.head())"
      ]
    },
    {
      "cell_type": "markdown",
      "metadata": {
        "id": "NK1vMch6MhsP"
      },
      "source": [
        "We can now create a new feature called journey_length representing the difference between departure date and arrival date.\n",
        "\n",
        "*Hint: Ensure that the journey_length is in the right format*"
      ]
    },
    {
      "cell_type": "code",
      "execution_count": 92,
      "metadata": {
        "id": "6TFymz0VMxaU",
        "colab": {
          "base_uri": "https://localhost:8080/"
        },
        "outputId": "92058d52-d335-4c75-b9dc-2dbef82b74ab"
      },
      "outputs": [
        {
          "output_type": "stream",
          "name": "stdout",
          "text": [
            "   userID     employment arrival_date departure_date  journey_length\n",
            "0  139646         Doctor   2019-10-11     2020-07-29             292\n",
            "2  287607  Kitchen staff   2020-02-16     2020-06-30             135\n",
            "3  410319         Lawyer   2020-04-23     2020-10-12             172\n",
            "8  556033   Web Designer   2019-10-13     2019-10-22               9\n",
            "9  581969      Librarian   2019-10-15     2020-05-07             205\n"
          ]
        }
      ],
      "source": [
        "#Your code here\n",
        "stays[\"journey_length\"] = (stays[\"departure_date\"] - stays[\"arrival_date\"]).dt.days\n",
        "\n",
        "\n",
        "print(stays.head())\n"
      ]
    },
    {
      "cell_type": "markdown",
      "metadata": {
        "id": "ySuTXWou8wSf"
      },
      "source": [
        "*Sidenote: if you get negative journey length, what would be your explanation to that?*"
      ]
    },
    {
      "cell_type": "markdown",
      "metadata": {
        "id": "Nnlu7m3kPBEV"
      },
      "source": [
        "We can now create the boxplots where the x-axis represents each profession and the y-axis corresponds to the journey length."
      ]
    },
    {
      "cell_type": "code",
      "execution_count": 93,
      "metadata": {
        "id": "nH9H5M18PDrm",
        "colab": {
          "base_uri": "https://localhost:8080/",
          "height": 560
        },
        "outputId": "9886f753-ef56-4592-efc5-c15722b0ccf5"
      },
      "outputs": [
        {
          "output_type": "execute_result",
          "data": {
            "text/plain": [
              "Text(0, 0.5, 'Journey Length (days)')"
            ]
          },
          "metadata": {},
          "execution_count": 93
        },
        {
          "output_type": "display_data",
          "data": {
            "text/plain": [
              "<Figure size 1000x600 with 1 Axes>"
            ],
            "image/png": "[encoded data removed]"
          },
          "metadata": {}
        }
      ],
      "source": [
        "#Your code here\n",
        "import matplotlib.pyplot as plt\n",
        "import seaborn as sns\n",
        "\n",
        "plt.figure(figsize=(10, 6))\n",
        "sns.boxplot(x=\"employment\", y=\"journey_length\", data=stays)\n",
        "plt.xlabel(\"Employment\")\n",
        "plt.ylabel(\"Journey Length (days)\")"
      ]
    },
    {
      "cell_type": "markdown",
      "metadata": {
        "id": "SM4NCHMMJz8K"
      },
      "source": [
        "**Q9. Which profession has the most staggering outlier?**\n",
        "(Meaning that the outlier value is the farthest away from the corresponding boxplot.)"
      ]
    },
    {
      "cell_type": "markdown",
      "metadata": {
        "id": "BqQD6lffRdNW"
      },
      "source": [
        "### SIMF is satisfied with your work but believes the current data is inconclusive.\n",
        "\n",
        "Your investigation will continue when more intelligence comes in..."
      ]
    },
    {
      "cell_type": "markdown",
      "metadata": {
        "id": "GUc8izkj48y2"
      },
      "source": [
        "**Don't forget to complete the moodle quiz ([Assignment Q1](https://moodle.unil.ch/mod/quiz/view.php?id=1744562)) and submit your code ([Code Q1](https://moodle.unil.ch/mod/assign/view.php?id=1744563)) on Moodle before Monday 30.09.2024.**"
      ]
    }
  ],
  "metadata": {
    "colab": {
      "provenance": [],
      "include_colab_link": true
    },
    "kernelspec": {
      "display_name": "Python 3 (ipykernel)",
      "language": "python",
      "name": "python3"
    },
    "language_info": {
      "codemirror_mode": {
        "name": "ipython",
        "version": 3
      },
      "file_extension": ".py",
      "mimetype": "text/x-python",
      "name": "python",
      "nbconvert_exporter": "python",
      "pygments_lexer": "ipython3",
      "version": "3.8.5"
    }
  },
  "nbformat": 4,
  "nbformat_minor": 0
}