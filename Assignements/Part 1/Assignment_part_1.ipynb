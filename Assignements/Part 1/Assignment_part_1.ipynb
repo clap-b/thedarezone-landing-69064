{
  "cells": [
    {
      "cell_type": "markdown",
      "metadata": {
        "id": "view-in-github",
        "colab_type": "text"
      },
      "source": [
        "<a href=\"https://colab.research.google.com/github/clap-b/thedarezone-landing-69064/blob/main/Assignements/Part%201/Assignment_part_1.ipynb\" target=\"_parent\"><img src=\"https://colab.research.google.com/assets/colab-badge.svg\" alt=\"Open In Colab\"/></a>"
      ]
    },
    {
      "cell_type": "markdown",
      "metadata": {
        "id": "yrXLb3bx4cfD"
      },
      "source": [
        "# DSML investigation:\n",
        "### You are part of the Suisse Impossible Mission Force, or SIMF for short. You need to uncover a rogue agent that is trying to steal sensitive information.\n",
        "\n",
        "### Your mission, should you choose to accept it, is to find that agent before any classified information gets stolen. Good luck!\n"
      ]
    },
    {
      "cell_type": "markdown",
      "metadata": {
        "id": "4bVDcyJHHFjh"
      },
      "source": [
        "## Assignment part one\n",
        "\n",
        "Airport security confiscated a laptop of a spy, which was later given to you. The laptop contains some documents that might be useful in the investigation process. You retrieve those documents and want to analyse them. Our intelligence shows that the person that we are looking for has visited the USA between Sept 2019 to Oct 2020. He is currently working undercover.\n",
        "\n",
        "\n",
        "### Getting to know our data\n",
        "\n",
        "We have retrieved from the laptop the following file:\n",
        "- A list of suspects\n",
        "- The flight records of these potential suspects\n",
        "\n"
      ]
    },
    {
      "cell_type": "code",
      "source": [],
      "metadata": {
        "id": "zv-riRytio1d"
      },
      "execution_count": null,
      "outputs": []
    },
    {
      "cell_type": "code",
      "execution_count": 3,
      "metadata": {
        "id": "abwjDTZRHvzn"
      },
      "outputs": [],
      "source": [
        "import pandas as pd\n",
        "import numpy as np\n",
        "import matplotlib.pyplot as plt\n",
        "userRecords = pd.read_csv(\"https://raw.githubusercontent.com/michalis0/DataScience_and_MachineLearning/refs/heads/master/Assignements/Part%201/data/userRecords.csv\")\n",
        "travelRecords = pd.read_csv(\"https://raw.githubusercontent.com/michalis0/DataScience_and_MachineLearning/refs/heads/master/Assignements/Part%201/data/flightRecords.csv\")"
      ]
    },
    {
      "cell_type": "markdown",
      "metadata": {
        "id": "Fl_HmWwtIBDJ"
      },
      "source": [
        "#### Shape of the data\n",
        "\n",
        "Let's first check how many rows and columns (features) are in the user records"
      ]
    },
    {
      "cell_type": "code",
      "execution_count": 4,
      "metadata": {
        "id": "uICj1b0GIEKG",
        "outputId": "4178665a-355d-4793-f328-67e9c7f62286",
        "colab": {
          "base_uri": "https://localhost:8080/"
        }
      },
      "outputs": [
        {
          "output_type": "stream",
          "name": "stdout",
          "text": [
            "(957, 8)\n"
          ]
        }
      ],
      "source": [
        "#Your code here\n",
        "print(userRecords.shape)"
      ]
    },
    {
      "cell_type": "markdown",
      "metadata": {
        "id": "2XIhLUBJDmfq"
      },
      "source": [
        "**Q1. How many rows are there in the user records dataset?**"
      ]
    },
    {
      "cell_type": "markdown",
      "metadata": {
        "id": "JT6l8O-2ISqh"
      },
      "source": [
        "\n",
        "#### Check out the first few rows\n",
        "Print the first few rows of the user records dataset and check them. Note that to protect innocent people, the name of the suspects have been censored, those will be revealed once number of potential suspects decreases.\n"
      ]
    },
    {
      "cell_type": "code",
      "execution_count": 5,
      "metadata": {
        "id": "xce5aB8SIOeu",
        "outputId": "d9ee8531-935d-467d-bf51-27fd75b32965",
        "colab": {
          "base_uri": "https://localhost:8080/"
        }
      },
      "outputs": [
        {
          "output_type": "stream",
          "name": "stdout",
          "text": [
            "   UserID first_name  last_name  birthday country marital_status  \\\n",
            "0  317991      Lu***    Al*****  29.07.03      AR              1   \n",
            "1  241892     Ma****  Ro*******  10.11.99      AR              1   \n",
            "2  303376     Fr****     Ac****  25.07.84      AR              1   \n",
            "3  761992     Fr****      Go***  20.03.70      AR              1   \n",
            "4  373318      Jo***      Ro***  05.10.71      AR              1   \n",
            "5  938770    Ri*****      Ro***  16.12.59      AR              1   \n",
            "6  676003   Cr******  Ro*******  24.07.67      AR              0   \n",
            "7  169743    Li*****  Fe*******  19.09.68      AR              0   \n",
            "8  255073     Al****     Ga****  06.09.98      AR              0   \n",
            "9  468560   Ga******  Fe*******  18.04.60      AR              1   \n",
            "\n",
            "   number_of_kids               employment  \n",
            "0             2.0             Web Designer  \n",
            "1             0.0                   Banker  \n",
            "2             0.0            Kitchen staff  \n",
            "3             0.0       Teaching Assistant  \n",
            "4             0.0  Administrative employee  \n",
            "5             1.0                Professor  \n",
            "6             0.0                   Lawyer  \n",
            "7             NaN                   Doctor  \n",
            "8             2.0                  Manager  \n",
            "9             2.0                   Lawyer  \n"
          ]
        }
      ],
      "source": [
        "#Your code here\n",
        "print(userRecords.head(10))"
      ]
    },
    {
      "cell_type": "markdown",
      "metadata": {
        "id": "3TgOsG-pI8Yo"
      },
      "source": [
        "#### Column/feature names\n",
        "print the list of columns in the user records dataset."
      ]
    },
    {
      "cell_type": "code",
      "execution_count": 7,
      "metadata": {
        "id": "KPRr2ogtI-3B",
        "outputId": "2a884fc7-c878-4f5b-b979-14762b1c9219",
        "colab": {
          "base_uri": "https://localhost:8080/"
        }
      },
      "outputs": [
        {
          "output_type": "stream",
          "name": "stdout",
          "text": [
            "Index(['UserID', 'first_name', 'last_name', 'birthday', 'country',\n",
            "       'marital_status', 'number_of_kids', 'employment'],\n",
            "      dtype='object')\n"
          ]
        }
      ],
      "source": [
        "#Your code here\n",
        "print(userRecords.columns)"
      ]
    },
    {
      "cell_type": "markdown",
      "metadata": {
        "id": "e1XYn9tvJHbL"
      },
      "source": [
        "#### Duplicates\n",
        "Check if there are any duplicate entries in the user records dataset.\n",
        "\n",
        "__Remark__: If there are two rows in the dataset that have the same value for __all of the columns__, we consider this as a duplicate."
      ]
    },
    {
      "cell_type": "code",
      "execution_count": 9,
      "metadata": {
        "id": "Ve6cJ5hbJIrQ",
        "outputId": "c8801e64-4070-4dc1-8856-4c5706c5305e",
        "colab": {
          "base_uri": "https://localhost:8080/"
        }
      },
      "outputs": [
        {
          "output_type": "stream",
          "name": "stdout",
          "text": [
            "True\n"
          ]
        }
      ],
      "source": [
        "#Your code here\n",
        "print(userRecords.duplicated().any())"
      ]
    },
    {
      "cell_type": "markdown",
      "metadata": {
        "id": "tebuO3lxJP-_"
      },
      "source": [
        "Show all the duplicated rows in the user records dataset.\n",
        "\n",
        "__Hint:__ use the method `duplicated(keep=False)` to get all occurrences of the duplicated rows."
      ]
    },
    {
      "cell_type": "code",
      "execution_count": 15,
      "metadata": {
        "id": "5UPbuQn5JQnQ",
        "outputId": "29e835bd-48c2-4071-d5f2-753b68a2025c",
        "colab": {
          "base_uri": "https://localhost:8080/"
        }
      },
      "outputs": [
        {
          "output_type": "stream",
          "name": "stdout",
          "text": [
            "     UserID first_name last_name  birthday country marital_status  \\\n",
            "18   100684    Ma*****    Me****  17.06.76      AR            NaN   \n",
            "19   100684    Ma*****    Me****  17.06.76      AR            NaN   \n",
            "47   910382      Ni***    El****  21.03.75      AZ            NaN   \n",
            "165  910382      Ni***    El****  21.03.75      AZ            NaN   \n",
            "276  610518    An*****  An******  15.02.53      DK              1   \n",
            "290  610518    An*****  An******  15.02.53      DK              1   \n",
            "\n",
            "     number_of_kids               employment  \n",
            "18              0.0  Administrative employee  \n",
            "19              0.0  Administrative employee  \n",
            "47              0.0  Administrative employee  \n",
            "165             0.0  Administrative employee  \n",
            "276             NaN                  Manager  \n",
            "290             NaN                  Manager  \n"
          ]
        }
      ],
      "source": [
        "#Your code here\n",
        "duplicates = userRecords[userRecords.duplicated(keep=False)]\n",
        "print(duplicates)"
      ]
    },
    {
      "cell_type": "markdown",
      "metadata": {
        "id": "qj3ec2_dD7OZ"
      },
      "source": [
        "**Q2. Are there any duplicate entries in the user records dataset?**\n",
        "\n",
        "*Note: Duplicate entries refer to two or more rows where all the values across every column are identical.*"
      ]
    },
    {
      "cell_type": "markdown",
      "metadata": {
        "id": "LvIVdCfzEE64"
      },
      "source": [
        "**Q3. How many duplicate entries are in the user records dataset?**\n",
        "\n",
        "(Remark: for instance: there are 2 duplicate \"entries\" in the following list: '1 ,2, 1, 3, 3, 4, 5'. It's 1 and 3)."
      ]
    },
    {
      "cell_type": "markdown",
      "metadata": {
        "id": "AdTka1hDgpUB"
      },
      "source": [
        "Drop the duplicate entries in the user records dataset."
      ]
    },
    {
      "cell_type": "code",
      "execution_count": 17,
      "metadata": {
        "id": "Jp9ndUSZgtSj",
        "outputId": "6eba4fdb-3cd8-4886-ebcc-3735d8b80d15",
        "colab": {
          "base_uri": "https://localhost:8080/"
        }
      },
      "outputs": [
        {
          "output_type": "stream",
          "name": "stdout",
          "text": [
            "3\n"
          ]
        }
      ],
      "source": [
        "#Your code here\n",
        "print(userRecords.duplicated().sum())"
      ]
    },
    {
      "cell_type": "markdown",
      "metadata": {
        "id": "pLJGJqwPT8B9"
      },
      "source": [
        "### Spies often use false identities with fabricated data.\n",
        "\n",
        "#### This suggests that if certain data points occur with statistically improbable frequency, they might be fabricated.\n",
        "\n",
        "In this part we are going to verify if there are birthdates that have been reused an unusual amount of times."
      ]
    },
    {
      "cell_type": "markdown",
      "metadata": {
        "id": "Qm2RR5j8Ky-t"
      },
      "source": [
        "Let's first ensure that the birthday column in the user records dataset has the correct format (datetime):\n"
      ]
    },
    {
      "cell_type": "code",
      "execution_count": 18,
      "metadata": {
        "id": "KJ1-Bk2XULlt",
        "outputId": "9258c485-ba52-41ed-942e-7527a94d9f52",
        "colab": {
          "base_uri": "https://localhost:8080/"
        }
      },
      "outputs": [
        {
          "output_type": "stream",
          "name": "stdout",
          "text": [
            "UserID              int64\n",
            "first_name         object\n",
            "last_name          object\n",
            "birthday           object\n",
            "country            object\n",
            "marital_status     object\n",
            "number_of_kids    float64\n",
            "employment         object\n",
            "dtype: object\n"
          ]
        }
      ],
      "source": [
        "#Check the data type of each feature\n",
        "#Your code here\n",
        "print(userRecords.dtypes)"
      ]
    },
    {
      "cell_type": "markdown",
      "metadata": {
        "id": "m1Bf_f-9qYTa"
      },
      "source": [
        "Convert the column `birthday` to datetime if necessary"
      ]
    },
    {
      "cell_type": "code",
      "execution_count": 20,
      "metadata": {
        "id": "3hmp9zVZK8fY",
        "outputId": "5b5518e4-e8ae-4bec-8959-ff0460af9c48",
        "colab": {
          "base_uri": "https://localhost:8080/"
        }
      },
      "outputs": [
        {
          "output_type": "stream",
          "name": "stdout",
          "text": [
            "UserID                     int64\n",
            "first_name                object\n",
            "last_name                 object\n",
            "birthday          datetime64[ns]\n",
            "country                   object\n",
            "marital_status            object\n",
            "number_of_kids           float64\n",
            "employment                object\n",
            "dtype: object\n"
          ]
        },
        {
          "output_type": "stream",
          "name": "stderr",
          "text": [
            "/tmp/ipython-input-353068658.py:2: UserWarning: Could not infer format, so each element will be parsed individually, falling back to `dateutil`. To ensure parsing is consistent and as-expected, please specify a format.\n",
            "  userRecords['birthday'] = pd.to_datetime(userRecords['birthday'], errors='coerce')\n"
          ]
        }
      ],
      "source": [
        "#Your code here\n",
        "userRecords['birthday'] = pd.to_datetime(userRecords['birthday'], errors='coerce')\n",
        "print(userRecords.dtypes)"
      ]
    },
    {
      "cell_type": "code",
      "source": [],
      "metadata": {
        "id": "KkcuMH_JrEkO"
      },
      "execution_count": null,
      "outputs": []
    },
    {
      "cell_type": "markdown",
      "metadata": {
        "id": "ZtNDR-qOzFfQ"
      },
      "source": [
        "Find the list of birthdays that are duplicated/reused in the dataset"
      ]
    },
    {
      "cell_type": "code",
      "execution_count": 26,
      "metadata": {
        "id": "R7xDb_JPyD0x",
        "outputId": "725156dc-25bb-44d3-fea8-a783942dd1ac",
        "colab": {
          "base_uri": "https://localhost:8080/"
        }
      },
      "outputs": [
        {
          "output_type": "stream",
          "name": "stdout",
          "text": [
            "6     2067-07-24\n",
            "13    2004-11-30\n",
            "18    1976-06-17\n",
            "19    1976-06-17\n",
            "34    2057-06-25\n",
            "46    1991-02-12\n",
            "47    1975-03-21\n",
            "74    2067-07-24\n",
            "112   2057-12-24\n",
            "150   1983-03-15\n",
            "153   2068-09-22\n",
            "160   1975-01-28\n",
            "165   1975-03-21\n",
            "183   2068-09-22\n",
            "186   2055-08-01\n",
            "191   2062-07-07\n",
            "209   2055-08-01\n",
            "241   2057-12-18\n",
            "276   2053-02-15\n",
            "288   2057-12-24\n",
            "290   2053-02-15\n",
            "305   2070-03-18\n",
            "312   2068-09-10\n",
            "329   2004-11-30\n",
            "355   2057-06-25\n",
            "370   1978-11-21\n",
            "393   1983-03-15\n",
            "396   1991-02-12\n",
            "399   2060-03-26\n",
            "481   1983-08-26\n",
            "501   2070-06-04\n",
            "511   2060-06-23\n",
            "516   1978-11-21\n",
            "538   1999-09-08\n",
            "557   1999-12-09\n",
            "570   2060-03-26\n",
            "592   1999-09-08\n",
            "623   2054-03-26\n",
            "627   1992-01-06\n",
            "630   1992-01-06\n",
            "647   1992-01-06\n",
            "666   2070-03-18\n",
            "668   1992-01-06\n",
            "715   2060-06-23\n",
            "722   2062-07-07\n",
            "723   1983-08-26\n",
            "772   2070-06-04\n",
            "790   2057-12-18\n",
            "807   1975-01-28\n",
            "810   2068-09-10\n",
            "838   1999-12-09\n",
            "950   2054-03-26\n",
            "Name: birthday, dtype: datetime64[ns]\n"
          ]
        }
      ],
      "source": [
        "#Your code here\n",
        "duplicates = userRecords[userRecords['birthday'].duplicated(keep=False)]\n",
        "print(duplicates['birthday'])"
      ]
    },
    {
      "cell_type": "markdown",
      "metadata": {
        "id": "FdIP5xyv2Qfs"
      },
      "source": [
        "Let's count how many people have their birthday on the same day among the duplicated birthdays."
      ]
    },
    {
      "cell_type": "code",
      "execution_count": 24,
      "metadata": {
        "id": "JDXzbAGPzVXy",
        "outputId": "c3ebf44a-2639-4b0f-dbaa-1f02f2e42aac",
        "colab": {
          "base_uri": "https://localhost:8080/"
        }
      },
      "outputs": [
        {
          "output_type": "stream",
          "name": "stdout",
          "text": [
            "birthday\n",
            "1992-01-06    4\n",
            "2070-06-04    2\n",
            "2057-12-24    2\n",
            "2054-03-26    2\n",
            "1983-03-15    2\n",
            "2060-06-23    2\n",
            "2068-09-22    2\n",
            "2057-06-25    2\n",
            "1976-06-17    2\n",
            "1991-02-12    2\n",
            "1975-03-21    2\n",
            "2060-03-26    2\n",
            "1999-09-08    2\n",
            "1999-12-09    2\n",
            "2062-07-07    2\n",
            "2068-09-10    2\n",
            "2070-03-18    2\n",
            "2055-08-01    2\n",
            "1975-01-28    2\n",
            "2053-02-15    2\n",
            "2067-07-24    2\n",
            "1983-08-26    2\n",
            "2004-11-30    2\n",
            "1978-11-21    2\n",
            "2057-12-18    2\n",
            "Name: count, dtype: int64\n"
          ]
        }
      ],
      "source": [
        "#Your code here\n",
        "birthday_counts = userRecords['birthday'].value_counts()\n",
        "reused_birthdays = birthday_counts[birthday_counts>1]\n",
        "print(reused_birthdays)"
      ]
    },
    {
      "cell_type": "markdown",
      "metadata": {
        "id": "RVtdeKq7E4Bl"
      },
      "source": [
        "**Q4. What is the most common birthday in the dataset?**"
      ]
    },
    {
      "cell_type": "code",
      "source": [
        "most_common_birthday = userRecords['birthday'].value_counts().idxmax()\n",
        "count = userRecords['birthday'].value_counts().max()\n",
        "print(most_common_birthday)"
      ],
      "metadata": {
        "id": "mSvisX44t4lc",
        "outputId": "e0c81036-3dab-44b4-b66c-eff2800fde04",
        "colab": {
          "base_uri": "https://localhost:8080/"
        }
      },
      "execution_count": 28,
      "outputs": [
        {
          "output_type": "stream",
          "name": "stdout",
          "text": [
            "1992-01-06 00:00:00\n"
          ]
        }
      ]
    },
    {
      "cell_type": "markdown",
      "metadata": {
        "id": "PrP661RxFBt2"
      },
      "source": [
        "**Q5. How many users have their birthdays on that day (the most common birthday)?**"
      ]
    },
    {
      "cell_type": "markdown",
      "metadata": {
        "id": "8hVJ7zM4RZk4"
      },
      "source": [
        "We can consider that there is no suspicious discrepancy through birthdays.\n"
      ]
    },
    {
      "cell_type": "markdown",
      "metadata": {
        "id": "-Akjuv9hBsPg"
      },
      "source": [
        "#### We have reasons to believe that the suspect works very thoroughly, so he would make sure that the fabricated data about his identity is complete in order for his operation to run smoothly.\n",
        "#### Therefore, we can exclude the people with incomplete information from the list of potential suspects."
      ]
    },
    {
      "cell_type": "markdown",
      "metadata": {
        "id": "OH0Rp5xb3OH9"
      },
      "source": [
        "Count how many null values are there in each column of the user records dataset. You can call `isnull()` and `sum()` to get a count of how many null values are there in each column."
      ]
    },
    {
      "cell_type": "code",
      "execution_count": 29,
      "metadata": {
        "id": "27y9FBJG3MuR",
        "outputId": "ff4ea820-ea28-45ca-aa10-993737903f72",
        "colab": {
          "base_uri": "https://localhost:8080/"
        }
      },
      "outputs": [
        {
          "output_type": "stream",
          "name": "stdout",
          "text": [
            "UserID              0\n",
            "first_name          1\n",
            "last_name           1\n",
            "birthday            1\n",
            "country             0\n",
            "marital_status    104\n",
            "number_of_kids    153\n",
            "employment          1\n",
            "dtype: int64\n"
          ]
        }
      ],
      "source": [
        "#Your code here\n",
        "null_counts = userRecords.isnull().sum()\n",
        "print(null_counts)"
      ]
    },
    {
      "cell_type": "markdown",
      "metadata": {
        "id": "b383FA5V0PfJ"
      },
      "source": [
        "If you encounter any null values in the dataset, be sure to exclude those entries from the suspect list."
      ]
    },
    {
      "cell_type": "code",
      "execution_count": 30,
      "metadata": {
        "id": "OxZ-tXn10mAg",
        "outputId": "5737d5fd-99e4-48f9-f885-b85e0307f48b",
        "colab": {
          "base_uri": "https://localhost:8080/"
        }
      },
      "outputs": [
        {
          "output_type": "stream",
          "name": "stdout",
          "text": [
            "     UserID  first_name  last_name   birthday country marital_status  \\\n",
            "0    317991       Lu***    Al***** 2003-07-29      AR              1   \n",
            "1    241892      Ma****  Ro******* 1999-10-11      AR              1   \n",
            "2    303376      Fr****     Ac**** 1984-07-25      AR              1   \n",
            "3    761992      Fr****      Go*** 2070-03-20      AR              1   \n",
            "4    373318       Jo***      Ro*** 2071-05-10      AR              1   \n",
            "..      ...         ...        ...        ...     ...            ...   \n",
            "950  458293  No********   Wi****** 2054-03-26      ZA              1   \n",
            "952  218415    Bu******   Mo****** 2001-01-22      ZA              0   \n",
            "953  173906     Th*****   Mo****** 2061-06-11      ZA              0   \n",
            "954  178685     Mi*****  Bu******* 2053-05-29      ZA              0   \n",
            "955  200865   Si*******     Na**** 2062-12-16      ZA              0   \n",
            "\n",
            "     number_of_kids               employment  \n",
            "0               2.0             Web Designer  \n",
            "1               0.0                   Banker  \n",
            "2               0.0            Kitchen staff  \n",
            "3               0.0       Teaching Assistant  \n",
            "4               0.0  Administrative employee  \n",
            "..              ...                      ...  \n",
            "950             2.0                Professor  \n",
            "952             1.0             Web Designer  \n",
            "953             2.0             Web Designer  \n",
            "954             1.0                Professor  \n",
            "955             0.0             Web Designer  \n",
            "\n",
            "[714 rows x 8 columns]\n"
          ]
        }
      ],
      "source": [
        "#Your code here\n",
        "cleaned_userRecords = userRecords.dropna()\n",
        "print(cleaned_userRecords)"
      ]
    },
    {
      "cell_type": "markdown",
      "metadata": {
        "id": "KkWJBx21Cq41"
      },
      "source": [
        "### Linking the user records to the flight records\n",
        "\n",
        "We will now proceed to identify the users who were in the USA from Sept 1st, 2019 to Oct 31st, 2020.\n",
        "\n",
        "We will merge the flight records with the user records in order to ensure that users who have been unsuspected in the previous step are not considered."
      ]
    },
    {
      "cell_type": "code",
      "execution_count": 31,
      "metadata": {
        "id": "EL7JbTKQCqUR"
      },
      "outputs": [],
      "source": [
        "#check the user records dataset"
      ]
    },
    {
      "cell_type": "code",
      "execution_count": 32,
      "metadata": {
        "id": "C8XXKKWVGa5_"
      },
      "outputs": [],
      "source": [
        "#check the flight records dataset\n"
      ]
    },
    {
      "cell_type": "markdown",
      "metadata": {
        "id": "Mp1SB0TPKoKM"
      },
      "source": [
        "[Merging](https://pandas.pydata.org/docs/user_guide/merging.html) the two datasets:\n",
        "\n",
        "*Hint: Use the above questions to identify on what feature to merge the datasets*\n",
        "\n",
        "The result should contain the features flightName, Departure, Arrival,  Date, UserID, first_name, last_name, etc."
      ]
    },
    {
      "cell_type": "code",
      "execution_count": 40,
      "metadata": {
        "id": "SJbpo03uHBcW",
        "outputId": "6185b233-1077-4684-d88a-ab71f96002de",
        "colab": {
          "base_uri": "https://localhost:8080/"
        }
      },
      "outputs": [
        {
          "output_type": "stream",
          "name": "stdout",
          "text": [
            "      flightName departure destination      date  userID  UserID first_name  \\\n",
            "0        KX65826        AR          IT  20.01.10  317991  317991      Lu***   \n",
            "1        CL12336        IT          MT  16.06.10  317991  317991      Lu***   \n",
            "2       YN106988        MT          SE  08.05.11  317991  317991      Lu***   \n",
            "3        CB58289        SE          EE  08.11.11  317991  317991      Lu***   \n",
            "4       SX625101        EE          AZ  17.11.11  317991  317991      Lu***   \n",
            "...          ...       ...         ...       ...     ...     ...        ...   \n",
            "19032    IY61324        PL          ZA  01.09.20  200865  200865  Si*******   \n",
            "19033    JO46672        ZA          DZ  20.07.21  200865  200865  Si*******   \n",
            "19034  HX1014810        DZ          CR  22.01.22  200865  200865  Si*******   \n",
            "19035   DL869109        CR          GT  28.04.22  200865  200865  Si*******   \n",
            "19036    XK61479        GT          KR  24.03.23  200865  200865  Si*******   \n",
            "\n",
            "      last_name   birthday country marital_status  number_of_kids  \\\n",
            "0       Al***** 2003-07-29      AR              1             2.0   \n",
            "1       Al***** 2003-07-29      AR              1             2.0   \n",
            "2       Al***** 2003-07-29      AR              1             2.0   \n",
            "3       Al***** 2003-07-29      AR              1             2.0   \n",
            "4       Al***** 2003-07-29      AR              1             2.0   \n",
            "...         ...        ...     ...            ...             ...   \n",
            "19032    Na**** 2062-12-16      ZA              0             0.0   \n",
            "19033    Na**** 2062-12-16      ZA              0             0.0   \n",
            "19034    Na**** 2062-12-16      ZA              0             0.0   \n",
            "19035    Na**** 2062-12-16      ZA              0             0.0   \n",
            "19036    Na**** 2062-12-16      ZA              0             0.0   \n",
            "\n",
            "         employment  \n",
            "0      Web Designer  \n",
            "1      Web Designer  \n",
            "2      Web Designer  \n",
            "3      Web Designer  \n",
            "4      Web Designer  \n",
            "...             ...  \n",
            "19032  Web Designer  \n",
            "19033  Web Designer  \n",
            "19034  Web Designer  \n",
            "19035  Web Designer  \n",
            "19036  Web Designer  \n",
            "\n",
            "[19037 rows x 13 columns]\n"
          ]
        }
      ],
      "source": [
        "#Your code here\n",
        "merged_data = pd.merge(travelRecords, cleaned_userRecords, left_on=\"userID\", right_on=\"UserID\", how=\"inner\")\n",
        "print(merged_data)\n"
      ]
    },
    {
      "cell_type": "markdown",
      "metadata": {
        "id": "qe8pzJ5A1TxQ"
      },
      "source": [
        "Remember, our suspect operates meticulously, ensuring that there are no null values in any entries."
      ]
    },
    {
      "cell_type": "code",
      "execution_count": 42,
      "metadata": {
        "id": "5HWgNzpC1pmL",
        "outputId": "738135bb-06b9-4b56-e801-bbd4b9545bb7",
        "colab": {
          "base_uri": "https://localhost:8080/"
        }
      },
      "outputs": [
        {
          "output_type": "stream",
          "name": "stdout",
          "text": [
            "flightName        0\n",
            "departure         0\n",
            "destination       0\n",
            "date              0\n",
            "userID            0\n",
            "UserID            0\n",
            "first_name        0\n",
            "last_name         0\n",
            "birthday          0\n",
            "country           0\n",
            "marital_status    0\n",
            "number_of_kids    0\n",
            "employment        0\n",
            "dtype: int64\n"
          ]
        }
      ],
      "source": [
        "#Your code here\n",
        "null_counts = merged_data.isnull().sum()\n",
        "print(null_counts)"
      ]
    },
    {
      "cell_type": "markdown",
      "metadata": {
        "id": "wmVg_OcqCzPe"
      },
      "source": [
        "Let's now identify the users who has **travelled to** the United States (US) between the 1st of september 2019 and the 31st of october 2020.\n",
        "\n",
        "*Note that the travel date is not in datetime format.*"
      ]
    },
    {
      "cell_type": "code",
      "execution_count": null,
      "metadata": {
        "id": "1qFGYqCsCynF"
      },
      "outputs": [],
      "source": [
        "#Your code here\n"
      ]
    },
    {
      "cell_type": "markdown",
      "metadata": {
        "id": "MoLO1Mz5IIZT"
      },
      "source": [
        "**Q6. How many suspects travelled to the US between the 1st of September 2019 and the 31st of October 2020?**"
      ]
    },
    {
      "cell_type": "markdown",
      "metadata": {
        "id": "fK5n1GbtfZBG"
      },
      "source": [
        "**Q7. Which users are included in the remaining list of suspects who traveled to the US between the 1st of September 2019 and the 31st of October 2020?** Choose from the answers on Moodle."
      ]
    },
    {
      "cell_type": "markdown",
      "metadata": {
        "id": "6nh27RK8cMJZ"
      },
      "source": [
        "## [Data visualisation ](https://pandas.pydata.org/docs/user_guide/visualization.html)\n",
        "\n",
        " Suisse Impossible Mission Force is happy with the result and would like to have some visual aid to make a profile of the potential suspects."
      ]
    },
    {
      "cell_type": "markdown",
      "metadata": {
        "id": "5mX8w6H7c6ro"
      },
      "source": [
        "Let's create a pie chart to visualize the employment distribution among the suspects who traveled to US between September 1st, 2019, and October 31st, 2020."
      ]
    },
    {
      "cell_type": "code",
      "execution_count": null,
      "metadata": {
        "id": "5Muyk-xMc7h6"
      },
      "outputs": [],
      "source": [
        "#Your code here\n"
      ]
    },
    {
      "cell_type": "markdown",
      "metadata": {
        "id": "M9Neo8lE3wd9"
      },
      "source": [
        "**Q8. Which profession is the least represented among the suspects the suspects who traveled to US between September 1st, 2019, and October 31st, 2020?**\n",
        " Choose from the answers on Moodle.\n"
      ]
    },
    {
      "cell_type": "markdown",
      "metadata": {
        "id": "WBUy4QHHiWuO"
      },
      "source": [
        "## Journey length\n",
        "\n",
        "The Suisse Impossible Mission Force suspects that the rogue agent is an anomaly within his declared employment category, particularly in terms of the number of days he spent at destinations compared to his peers.\n",
        "\n",
        "To identify such deviations, we can employ boxplots for each employment category, allowing us to visually identify outliers in the data."
      ]
    },
    {
      "cell_type": "markdown",
      "metadata": {
        "id": "uiKyLYwHcCJ-"
      },
      "source": [
        "First, let's construct two tables: one for the dates of arrival and another for the dates of departure. Utilize the existing dataset to extract these dates based on the 'destination' and 'departure' columns. Ensure that both the arrival and departure dates are within the period the suspect is believed to have been in the US, which is from September 2019 to October 2020."
      ]
    },
    {
      "cell_type": "code",
      "execution_count": null,
      "metadata": {
        "id": "pZvGcHwbv0e7"
      },
      "outputs": [],
      "source": [
        "# For this step we will need the information not only about the fights to the US,\n",
        "# but also about the flights taken from the US\n",
        "# Your code here\n"
      ]
    },
    {
      "cell_type": "markdown",
      "metadata": {
        "id": "_gXDZXu0LUa5"
      },
      "source": [
        "We can keep on both of these tables the user ID, employment, and departure date / arrival date."
      ]
    },
    {
      "cell_type": "code",
      "execution_count": null,
      "metadata": {
        "id": "0m_fOp5LLjnq"
      },
      "outputs": [],
      "source": [
        "#Your code here\n"
      ]
    },
    {
      "cell_type": "markdown",
      "metadata": {
        "id": "zJR7PDWZL3oO"
      },
      "source": [
        "We can now join the two tables on user ID."
      ]
    },
    {
      "cell_type": "code",
      "execution_count": null,
      "metadata": {
        "id": "9INyxNK9L3aC"
      },
      "outputs": [],
      "source": [
        "#Your code here"
      ]
    },
    {
      "cell_type": "markdown",
      "metadata": {
        "id": "NK1vMch6MhsP"
      },
      "source": [
        "We can now create a new feature called journey_length representing the difference between departure date and arrival date.\n",
        "\n",
        "*Hint: Ensure that the journey_length is in the right format*"
      ]
    },
    {
      "cell_type": "code",
      "execution_count": null,
      "metadata": {
        "id": "6TFymz0VMxaU"
      },
      "outputs": [],
      "source": [
        "#Your code here\n"
      ]
    },
    {
      "cell_type": "markdown",
      "metadata": {
        "id": "ySuTXWou8wSf"
      },
      "source": [
        "*Sidenote: if you get negative journey length, what would be your explanation to that?*"
      ]
    },
    {
      "cell_type": "markdown",
      "metadata": {
        "id": "Nnlu7m3kPBEV"
      },
      "source": [
        "We can now create the boxplots where the x-axis represents each profession and the y-axis corresponds to the journey length."
      ]
    },
    {
      "cell_type": "code",
      "execution_count": null,
      "metadata": {
        "id": "nH9H5M18PDrm"
      },
      "outputs": [],
      "source": [
        "#Your code here\n"
      ]
    },
    {
      "cell_type": "markdown",
      "metadata": {
        "id": "SM4NCHMMJz8K"
      },
      "source": [
        "**Q9. Which profession has the most staggering outlier?**\n",
        "(Meaning that the outlier value is the farthest away from the corresponding boxplot.)"
      ]
    },
    {
      "cell_type": "markdown",
      "metadata": {
        "id": "BqQD6lffRdNW"
      },
      "source": [
        "### SIMF is satisfied with your work but believes the current data is inconclusive.\n",
        "\n",
        "Your investigation will continue when more intelligence comes in..."
      ]
    },
    {
      "cell_type": "markdown",
      "metadata": {
        "id": "GUc8izkj48y2"
      },
      "source": [
        "**Don't forget to complete the moodle quiz ([Assignment Q1](https://moodle.unil.ch/mod/quiz/view.php?id=1744562)) and submit your code ([Code Q1](https://moodle.unil.ch/mod/assign/view.php?id=1744563)) on Moodle before Monday 30.09.2024.**"
      ]
    }
  ],
  "metadata": {
    "colab": {
      "provenance": [],
      "include_colab_link": true
    },
    "kernelspec": {
      "display_name": "Python 3 (ipykernel)",
      "language": "python",
      "name": "python3"
    },
    "language_info": {
      "codemirror_mode": {
        "name": "ipython",
        "version": 3
      },
      "file_extension": ".py",
      "mimetype": "text/x-python",
      "name": "python",
      "nbconvert_exporter": "python",
      "pygments_lexer": "ipython3",
      "version": "3.8.5"
    }
  },
  "nbformat": 4,
  "nbformat_minor": 0
}